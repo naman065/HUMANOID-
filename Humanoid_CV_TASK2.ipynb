{
  "cells": [
    {
      "cell_type": "code",
      "execution_count": null,
      "metadata": {
        "colab": {
          "base_uri": "https://localhost:8080/"
        },
        "id": "g0UU7KK-bCYi",
        "outputId": "9cb310bf-4d5f-4fb0-b6d0-9382ce2c6c33"
      },
      "outputs": [],
      "source": [
        "!pip install opencv-python-headless\n",
        "!pip install mediapipe\n"
      ]
    },
    {
      "cell_type": "code",
      "execution_count": null,
      "metadata": {
        "colab": {
          "base_uri": "https://localhost:8080/",
          "height": 1000
        },
        "id": "1q73V0Bea0e6",
        "outputId": "091f1b17-bfe5-4cb4-c665-2e2e7018a98f"
      },
      "outputs": [],
      "source": [
        "import cv2\n",
        "import mediapipe as mp\n",
        "import numpy as np\n",
        "from google.colab.patches import cv2_imshow\n",
        "from google.colab import files\n",
        "\n",
        "\n",
        "uploaded = files.upload()\n",
        "vid_path = list(uploaded.keys())[0]\n",
        "\n",
        "# Initialize MediaPipe Hands\n",
        "mp_hands = mp.solutions.hands\n",
        "mp_drawing = mp.solutions.drawing_utils\n",
        "hands = mp_hands.Hands(max_num_hands=2, min_detection_confidence=0.7, min_tracking_confidence=0.5)\n",
        "\n",
        "\n",
        "cap = cv2.VideoCapture(vid_path)\n",
        "frame_width = int(cap.get(cv2.CAP_PROP_FRAME_WIDTH))\n",
        "frame_height = int(cap.get(cv2.CAP_PROP_FRAME_HEIGHT))\n",
        "fps = int(cap.get(cv2.CAP_PROP_FPS))\n",
        "\n",
        "# Define the codec and create a VideoWriter object to save the video\n",
        "output_path = 'output_bottle_flip_detection.avi'\n",
        "out = cv2.VideoWriter(output_path, cv2.VideoWriter_fourcc('M','J','P','G'), fps, (frame_width, frame_height))\n",
        "\n",
        "if not cap.isOpened():\n",
        "    print(\"Error opening video file\")\n",
        "else:\n",
        "    while cap.isOpened():\n",
        "        ret, frame = cap.read()\n",
        "        if not ret:\n",
        "            break\n",
        "\n",
        "        # Convert the frame to RGB\n",
        "        rgb_frame = cv2.cvtColor(frame, cv2.COLOR_BGR2RGB)\n",
        "\n",
        "        # Process the frame to find hands\n",
        "        results = hands.process(rgb_frame)\n",
        "\n",
        "        hand_count = 0\n",
        "        if results.multi_hand_landmarks:\n",
        "            for hand_landmarks in results.multi_hand_landmarks:\n",
        "                mp_drawing.draw_landmarks(frame, hand_landmarks, mp_hands.HAND_CONNECTIONS)\n",
        "                hand_count += 1\n",
        "\n",
        "        # Check if more than one hand is detected\n",
        "        if hand_count > 1:\n",
        "            label = \"Invalid Flip (Cheat Detected)\"\n",
        "            color = (0, 0, 255)  # Red for invalid\n",
        "        else:\n",
        "            label = \"Valid Flip\"\n",
        "            color = (0, 255, 0)  # Green for valid\n",
        "\n",
        "        # Display the result on the frame\n",
        "        cv2.putText(frame, label, (10, 30), cv2.FONT_HERSHEY_SIMPLEX, 1, color, 2, cv2.LINE_AA)\n",
        "\n",
        "\n",
        "        out.write(frame)\n",
        "\n",
        "\n",
        "        cv2_imshow(frame)\n",
        "        if cv2.waitKey(30) & 0xFF == ord('q'):\n",
        "            break\n",
        "\n",
        "cap.release()\n",
        "out.release()\n",
        "cv2.destroyAllWindows()\n",
        "\n",
        "# Provide a download link for the output video\n",
        "files.download(output_path)\n"
      ]
    }
  ],
  "metadata": {
    "colab": {
      "provenance": []
    },
    "kernelspec": {
      "display_name": "Python 3",
      "name": "python3"
    },
    "language_info": {
      "name": "python"
    }
  },
  "nbformat": 4,
  "nbformat_minor": 0
}
